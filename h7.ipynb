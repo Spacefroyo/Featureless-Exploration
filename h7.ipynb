{
 "cells": [
  {
   "cell_type": "code",
   "execution_count": 2,
   "metadata": {},
   "outputs": [],
   "source": [
    "import gzip\n",
    "from collections import defaultdict\n",
    "import numpy as np\n",
    "import random\n",
    "import sklearn\n",
    "from sklearn.linear_model import LogisticRegression, LinearRegression, Ridge\n",
    "from scipy.sparse import csr_matrix\n",
    "import surprise\n",
    "from surprise import SVD, Reader, Dataset, accuracy, SVDpp\n",
    "from sklearn.model_selection import train_test_split\n",
    "from sklearn.metrics import mean_squared_error\n",
    "import pandas as pd\n",
    "import math\n",
    "import tensorflow as tf\n",
    "np.random.seed(0)"
   ]
  },
  {
   "cell_type": "code",
   "execution_count": 3,
   "metadata": {},
   "outputs": [],
   "source": [
    "def readJSON(path):\n",
    "  for l in gzip.open(path, 'rt'):\n",
    "    d = eval(l)\n",
    "    yield d"
   ]
  },
  {
   "cell_type": "code",
   "execution_count": 4,
   "metadata": {},
   "outputs": [],
   "source": [
    "raw_data = [d for d in readJSON(\"train.json.gz\")]\n",
    "np.random.shuffle(raw_data)"
   ]
  },
  {
   "cell_type": "code",
   "execution_count": 5,
   "metadata": {},
   "outputs": [],
   "source": [
    "umap = {}\n",
    "gmap = {}\n",
    "\n",
    "for d in raw_data:\n",
    "    u, g = d['userID'], d['gameID']\n",
    "    if u not in umap:\n",
    "        umap[u] = len(umap)\n",
    "    if g not in gmap:\n",
    "        gmap[g] = len(gmap)\n",
    "\n",
    "    d['user'] = umap[u]\n",
    "    d['game'] = gmap[g]"
   ]
  },
  {
   "cell_type": "code",
   "execution_count": 6,
   "metadata": {},
   "outputs": [],
   "source": [
    "tasks = []\n",
    "header = \"\"\n",
    "\n",
    "for l in open(\"pairs_Hours.csv\"):\n",
    "    if l.startswith(\"userID\"):\n",
    "        #header\n",
    "        header = l\n",
    "        continue\n",
    "    u,g = l.strip().split(',')\n",
    "    if u not in umap:\n",
    "        umap[u] = len(umap)\n",
    "    if g not in gmap:\n",
    "        gmap[g] = len(gmap)\n",
    "    u = umap[u]\n",
    "    g = gmap[g]\n",
    "    tasks.append((u,g))\n"
   ]
  },
  {
   "cell_type": "code",
   "execution_count": 7,
   "metadata": {},
   "outputs": [],
   "source": [
    "def intersection(lst1, lst2):\n",
    "    j = 0\n",
    "    ans = []\n",
    "    for i in range(len(lst1)):\n",
    "        while (j < len(lst2) and lst2[j] < lst1[i]):\n",
    "            j += 1\n",
    "        if j >= len(lst2):\n",
    "            break\n",
    "        if lst2[j] == lst1[i]:\n",
    "            ans.append(lst1[i])\n",
    "            j += 1\n",
    "    return ans"
   ]
  },
  {
   "cell_type": "code",
   "execution_count": 8,
   "metadata": {},
   "outputs": [],
   "source": [
    "dataset = [(d['user'], d['game'], d['hours_transformed']) for d in raw_data]\n",
    "trainset, validset = train_test_split(dataset, test_size=0.2, random_state=0)"
   ]
  },
  {
   "cell_type": "code",
   "execution_count": 9,
   "metadata": {},
   "outputs": [],
   "source": [
    "training = True\n",
    "if not training:\n",
    "    trainset = dataset"
   ]
  },
  {
   "cell_type": "code",
   "execution_count": 10,
   "metadata": {},
   "outputs": [],
   "source": [
    "mean_hours = np.mean([d[2] for d in dataset]).astype(np.float32)"
   ]
  },
  {
   "cell_type": "code",
   "execution_count": 11,
   "metadata": {},
   "outputs": [],
   "source": [
    "mat = np.zeros([len(umap), len(gmap)], dtype=np.float32)\n",
    "\n",
    "for d in trainset:\n",
    "    hours = d[2]\n",
    "    mat[d[0],d[1]] = hours"
   ]
  },
  {
   "cell_type": "code",
   "execution_count": 38,
   "metadata": {},
   "outputs": [],
   "source": [
    "class NN(tf.keras.Model):\n",
    "    def __init__(self, layers):\n",
    "        super(NN, self).__init__()\n",
    "\n",
    "        layers = [len(gmap) + len(umap)] + layers + [1]\n",
    "        self.ffs = []\n",
    "        for i in range(len(layers)-1):\n",
    "            self.ffs.append(tf.Variable(tf.random.normal([1+layers[i],layers[i+1]],stddev=0.001)))\n",
    "\n",
    "    # Prediction for a many instances\n",
    "    def predict(self, X):\n",
    "        for layer in self.ffs:\n",
    "            X = tf.concat([tf.ones([tf.shape(X)[0], 1], dtype=tf.float32), X], 1)\n",
    "            X = tf.nn.relu(tf.matmul(X, layer))\n",
    "\n",
    "        return X\n",
    "\n",
    "    # Regularizer\n",
    "    def reg(self):\n",
    "        return 0.\n",
    "    \n",
    "    # Loss\n",
    "    def call(self, X, y):\n",
    "        y = tf.cast(y, tf.float32)\n",
    "        pred = self.predict(X)\n",
    "\n",
    "        return tf.reduce_sum(tf.nn.l2_loss(y - pred)) / tf.cast(tf.shape(y)[0], tf.float32) + self.reg()"
   ]
  },
  {
   "cell_type": "code",
   "execution_count": 106,
   "metadata": {},
   "outputs": [],
   "source": [
    "optimizer = tf.keras.optimizers.legacy.Adam(0.0001)\n",
    "layers = [16, 16, 16, 16, 16]\n",
    "modelLFM = NN(layers)\n",
    "modelLFM.compile(optimizer=optimizer)"
   ]
  },
  {
   "cell_type": "code",
   "execution_count": 107,
   "metadata": {},
   "outputs": [],
   "source": [
    "def trainingStep(model, trainset):\n",
    "    Nsamples = 50000\n",
    "    with tf.GradientTape() as tape:\n",
    "        X = np.zeros([Nsamples, len(umap) + len(gmap)], dtype=np.float32)\n",
    "        y = np.zeros([Nsamples, 1], dtype=np.float32)\n",
    "        for i in range(Nsamples):\n",
    "            u,g,h = random.choice(trainset)\n",
    "            X[i] = np.concatenate([mat[u], mat[:,g]])\n",
    "            y[i] = h\n",
    "        loss = model(X, y)\n",
    "        \n",
    "    gradients = tape.gradient(loss, model.trainable_variables)\n",
    "    optimizer.apply_gradients((grad, var) for\n",
    "                              (grad, var) in zip(gradients, model.trainable_variables)\n",
    "                              if grad is not None)\n",
    "    return loss.numpy()"
   ]
  },
  {
   "cell_type": "code",
   "execution_count": 108,
   "metadata": {},
   "outputs": [],
   "source": [
    "valid_X = np.zeros([len(validset), len(umap) + len(gmap)], dtype=np.float32)\n",
    "valid_y = np.zeros([len(validset), 1], dtype=np.float32)\n",
    "for i in range(len(validset)):\n",
    "    u,g,h = validset[i]\n",
    "    valid_X[i] = np.concatenate([mat[u], mat[:,g]])\n",
    "    valid_y[i] = h\n",
    "\n",
    "def MSE(model):\n",
    "    predictions = model.predict(valid_X).numpy()\n",
    "    MSE = mean_squared_error(valid_y, predictions)\n",
    "    return MSE"
   ]
  },
  {
   "cell_type": "code",
   "execution_count": 109,
   "metadata": {},
   "outputs": [
    {
     "name": "stdout",
     "output_type": "stream",
     "text": [
      "iteration 1, valid MSE =  19.190874\n",
      "iteration 2, valid MSE =  19.190874\n"
     ]
    },
    {
     "ename": "KeyboardInterrupt",
     "evalue": "",
     "output_type": "error",
     "traceback": [
      "\u001b[0;31m---------------------------------------------------------------------------\u001b[0m",
      "\u001b[0;31mKeyboardInterrupt\u001b[0m                         Traceback (most recent call last)",
      "\u001b[1;32m/Users/petergao/Desktop/cse158/assignment1/h7.ipynb Cell 15\u001b[0m line \u001b[0;36m3\n\u001b[1;32m      <a href='vscode-notebook-cell:/Users/petergao/Desktop/cse158/assignment1/h7.ipynb#X20sZmlsZQ%3D%3D?line=0'>1</a>\u001b[0m prevMSE \u001b[39m=\u001b[39m MSE(modelLFM)\n\u001b[1;32m      <a href='vscode-notebook-cell:/Users/petergao/Desktop/cse158/assignment1/h7.ipynb#X20sZmlsZQ%3D%3D?line=1'>2</a>\u001b[0m \u001b[39mfor\u001b[39;00m i \u001b[39min\u001b[39;00m \u001b[39mrange\u001b[39m(\u001b[39m100\u001b[39m):\n\u001b[0;32m----> <a href='vscode-notebook-cell:/Users/petergao/Desktop/cse158/assignment1/h7.ipynb#X20sZmlsZQ%3D%3D?line=2'>3</a>\u001b[0m     obj \u001b[39m=\u001b[39m trainingStep(modelLFM, trainset)\n\u001b[1;32m      <a href='vscode-notebook-cell:/Users/petergao/Desktop/cse158/assignment1/h7.ipynb#X20sZmlsZQ%3D%3D?line=3'>4</a>\u001b[0m     valid_MSE \u001b[39m=\u001b[39m MSE(modelLFM)\n\u001b[1;32m      <a href='vscode-notebook-cell:/Users/petergao/Desktop/cse158/assignment1/h7.ipynb#X20sZmlsZQ%3D%3D?line=4'>5</a>\u001b[0m     \u001b[39mif\u001b[39;00m (i \u001b[39m%\u001b[39m \u001b[39m1\u001b[39m \u001b[39m==\u001b[39m \u001b[39m0\u001b[39m): \n",
      "\u001b[1;32m/Users/petergao/Desktop/cse158/assignment1/h7.ipynb Cell 15\u001b[0m line \u001b[0;36m9\n\u001b[1;32m      <a href='vscode-notebook-cell:/Users/petergao/Desktop/cse158/assignment1/h7.ipynb#X20sZmlsZQ%3D%3D?line=6'>7</a>\u001b[0m         u,g,h \u001b[39m=\u001b[39m random\u001b[39m.\u001b[39mchoice(trainset)\n\u001b[1;32m      <a href='vscode-notebook-cell:/Users/petergao/Desktop/cse158/assignment1/h7.ipynb#X20sZmlsZQ%3D%3D?line=7'>8</a>\u001b[0m         X[i] \u001b[39m=\u001b[39m np\u001b[39m.\u001b[39mconcatenate([mat[u], mat[:,g]])\n\u001b[0;32m----> <a href='vscode-notebook-cell:/Users/petergao/Desktop/cse158/assignment1/h7.ipynb#X20sZmlsZQ%3D%3D?line=8'>9</a>\u001b[0m         y[i] \u001b[39m=\u001b[39m h\n\u001b[1;32m     <a href='vscode-notebook-cell:/Users/petergao/Desktop/cse158/assignment1/h7.ipynb#X20sZmlsZQ%3D%3D?line=9'>10</a>\u001b[0m     loss \u001b[39m=\u001b[39m model(X, y)\n\u001b[1;32m     <a href='vscode-notebook-cell:/Users/petergao/Desktop/cse158/assignment1/h7.ipynb#X20sZmlsZQ%3D%3D?line=11'>12</a>\u001b[0m gradients \u001b[39m=\u001b[39m tape\u001b[39m.\u001b[39mgradient(loss, model\u001b[39m.\u001b[39mtrainable_variables)\n",
      "\u001b[0;31mKeyboardInterrupt\u001b[0m: "
     ]
    }
   ],
   "source": [
    "prevMSE = MSE(modelLFM)\n",
    "for i in range(100):\n",
    "    obj = trainingStep(modelLFM, trainset)\n",
    "    valid_MSE = MSE(modelLFM)\n",
    "    if (i % 1 == 0): \n",
    "        print(\"iteration \" + str(i+1) + \", valid MSE = \", valid_MSE)\n",
    "    # if valid_MSE > prevMSE:\n",
    "    #     break"
   ]
  },
  {
   "cell_type": "code",
   "execution_count": null,
   "metadata": {},
   "outputs": [],
   "source": []
  }
 ],
 "metadata": {
  "kernelspec": {
   "display_name": "Python 3",
   "language": "python",
   "name": "python3"
  },
  "language_info": {
   "codemirror_mode": {
    "name": "ipython",
    "version": 3
   },
   "file_extension": ".py",
   "mimetype": "text/x-python",
   "name": "python",
   "nbconvert_exporter": "python",
   "pygments_lexer": "ipython3",
   "version": "3.10.13"
  }
 },
 "nbformat": 4,
 "nbformat_minor": 2
}
