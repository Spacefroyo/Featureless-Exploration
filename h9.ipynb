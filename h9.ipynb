{
 "cells": [
  {
   "cell_type": "code",
   "execution_count": 12,
   "metadata": {},
   "outputs": [],
   "source": [
    "import gzip\n",
    "from collections import defaultdict\n",
    "import numpy as np\n",
    "import random\n",
    "import sklearn\n",
    "from sklearn.linear_model import LogisticRegression, LinearRegression, Ridge\n",
    "from scipy.sparse import csr_matrix\n",
    "import surprise\n",
    "from surprise import SVD, Reader, Dataset, accuracy, SVDpp\n",
    "from sklearn.model_selection import train_test_split\n",
    "from sklearn.metrics import mean_squared_error\n",
    "import pandas as pd\n",
    "import math\n",
    "np.random.seed(0)"
   ]
  },
  {
   "cell_type": "code",
   "execution_count": 13,
   "metadata": {},
   "outputs": [],
   "source": [
    "def readJSON(path):\n",
    "  for l in gzip.open(path, 'rt'):\n",
    "    d = eval(l)\n",
    "    yield d"
   ]
  },
  {
   "cell_type": "code",
   "execution_count": 43,
   "metadata": {},
   "outputs": [
    {
     "ename": "KeyboardInterrupt",
     "evalue": "",
     "output_type": "error",
     "traceback": [
      "\u001b[0;31m---------------------------------------------------------------------------\u001b[0m",
      "\u001b[0;31mKeyboardInterrupt\u001b[0m                         Traceback (most recent call last)",
      "\u001b[1;32m/Users/petergao/Desktop/cse158/assignment1/h9.ipynb Cell 3\u001b[0m line \u001b[0;36m1\n\u001b[0;32m----> <a href='vscode-notebook-cell:/Users/petergao/Desktop/cse158/assignment1/h9.ipynb#W2sZmlsZQ%3D%3D?line=0'>1</a>\u001b[0m raw_data \u001b[39m=\u001b[39m [d \u001b[39mfor\u001b[39;00m d \u001b[39min\u001b[39;00m readJSON(\u001b[39m\"\u001b[39m\u001b[39mtrain.json.gz\u001b[39m\u001b[39m\"\u001b[39m)]\n\u001b[1;32m      <a href='vscode-notebook-cell:/Users/petergao/Desktop/cse158/assignment1/h9.ipynb#W2sZmlsZQ%3D%3D?line=1'>2</a>\u001b[0m np\u001b[39m.\u001b[39mrandom\u001b[39m.\u001b[39mshuffle(raw_data)\n",
      "\u001b[1;32m/Users/petergao/Desktop/cse158/assignment1/h9.ipynb Cell 3\u001b[0m line \u001b[0;36m1\n\u001b[0;32m----> <a href='vscode-notebook-cell:/Users/petergao/Desktop/cse158/assignment1/h9.ipynb#W2sZmlsZQ%3D%3D?line=0'>1</a>\u001b[0m raw_data \u001b[39m=\u001b[39m [d \u001b[39mfor\u001b[39;00m d \u001b[39min\u001b[39;00m readJSON(\u001b[39m\"\u001b[39m\u001b[39mtrain.json.gz\u001b[39m\u001b[39m\"\u001b[39m)]\n\u001b[1;32m      <a href='vscode-notebook-cell:/Users/petergao/Desktop/cse158/assignment1/h9.ipynb#W2sZmlsZQ%3D%3D?line=1'>2</a>\u001b[0m np\u001b[39m.\u001b[39mrandom\u001b[39m.\u001b[39mshuffle(raw_data)\n",
      "\u001b[1;32m/Users/petergao/Desktop/cse158/assignment1/h9.ipynb Cell 3\u001b[0m line \u001b[0;36m3\n\u001b[1;32m      <a href='vscode-notebook-cell:/Users/petergao/Desktop/cse158/assignment1/h9.ipynb#W2sZmlsZQ%3D%3D?line=0'>1</a>\u001b[0m \u001b[39mdef\u001b[39;00m \u001b[39mreadJSON\u001b[39m(path):\n\u001b[1;32m      <a href='vscode-notebook-cell:/Users/petergao/Desktop/cse158/assignment1/h9.ipynb#W2sZmlsZQ%3D%3D?line=1'>2</a>\u001b[0m   \u001b[39mfor\u001b[39;00m l \u001b[39min\u001b[39;00m gzip\u001b[39m.\u001b[39mopen(path, \u001b[39m'\u001b[39m\u001b[39mrt\u001b[39m\u001b[39m'\u001b[39m):\n\u001b[0;32m----> <a href='vscode-notebook-cell:/Users/petergao/Desktop/cse158/assignment1/h9.ipynb#W2sZmlsZQ%3D%3D?line=2'>3</a>\u001b[0m     d \u001b[39m=\u001b[39m \u001b[39meval\u001b[39;49m(l)\n\u001b[1;32m      <a href='vscode-notebook-cell:/Users/petergao/Desktop/cse158/assignment1/h9.ipynb#W2sZmlsZQ%3D%3D?line=3'>4</a>\u001b[0m     \u001b[39myield\u001b[39;00m d\n",
      "File \u001b[0;32m<string>:1\u001b[0m\n",
      "\u001b[0;31mKeyboardInterrupt\u001b[0m: "
     ]
    }
   ],
   "source": [
    "raw_data = [d for d in readJSON(\"train.json.gz\")]\n",
    "np.random.shuffle(raw_data)"
   ]
  },
  {
   "cell_type": "code",
   "execution_count": 15,
   "metadata": {},
   "outputs": [],
   "source": [
    "umap = {}\n",
    "gmap = {}\n",
    "\n",
    "for d in raw_data:\n",
    "    u, g = d['userID'], d['gameID']\n",
    "    if u not in umap:\n",
    "        umap[u] = len(umap)\n",
    "    if g not in gmap:\n",
    "        gmap[g] = len(gmap)\n",
    "\n",
    "    d['user'] = umap[u]\n",
    "    d['game'] = gmap[g]"
   ]
  },
  {
   "cell_type": "code",
   "execution_count": 16,
   "metadata": {},
   "outputs": [],
   "source": [
    "def intersection(lst1, lst2):\n",
    "    j = 0\n",
    "    ans = []\n",
    "    for i in range(len(lst1)):\n",
    "        while (j < len(lst2) and lst2[j] < lst1[i]):\n",
    "            j += 1\n",
    "        if j >= len(lst2):\n",
    "            break\n",
    "        if lst2[j] == lst1[i]:\n",
    "            ans.append(lst1[i])\n",
    "            j += 1\n",
    "    return ans"
   ]
  },
  {
   "cell_type": "code",
   "execution_count": 37,
   "metadata": {},
   "outputs": [],
   "source": [
    "def Cosine(lst1, lst2):\n",
    "    lst1 = set(lst1)\n",
    "    lst2 = set(lst2)\n",
    "    return len(lst1.intersection(lst2)) / (math.sqrt(len(lst1)) * math.sqrt(len(lst2)))\n",
    "\n",
    "def Jaccard(lst1, lst2):\n",
    "    lst1 = set(lst1)\n",
    "    lst2 = set(lst2)\n",
    "    return len(lst1.intersection(lst2)) / len(lst1.union(lst2))\n",
    "\n",
    "def Pearson(lst1, lst2):\n",
    "    lst1 = set(lst1)\n",
    "    lst2 = set(lst2)\n",
    "    return len(lst1.intersection(lst2)) / (len(lst1) * len(lst2))\n",
    "\n",
    "def ModJaccard(lst1, lst2):\n",
    "    lst1 = set(lst1)\n",
    "    lst2 = set(lst2)\n",
    "    return len(lst1.intersection(lst2)) / len(lst1.union(lst2).difference(lst1.intersection(lst2)))\n",
    "\n",
    "def LopJaccard(lst1, lst2):\n",
    "    lst1 = set(lst1)\n",
    "    lst2 = set(lst2)\n",
    "    return len(lst1.intersection(lst2)) / len(lst1)\n",
    "\n",
    "def Custom(i, j, lst1, lst2):\n",
    "    sim = 0\n",
    "    for u in intersection(lst1, lst2):\n",
    "        sim += (interactions[(u,i)] + interactions[(u,j)]) / (1+np.abs(interactions[(u,i)] - interactions[(u,j)])) / 28\n",
    "    return sim"
   ]
  },
  {
   "cell_type": "code",
   "execution_count": 38,
   "metadata": {},
   "outputs": [],
   "source": [
    "dataset = [(d['user'], d['game'], d['hours_transformed']) for d in raw_data]\n",
    "\n",
    "interactions = {}\n",
    "gamesPerUser = defaultdict(set)\n",
    "usersPerGame = defaultdict(set)\n",
    "sim_ij = defaultdict(int)\n",
    "\n",
    "def sim(i, j, func=Custom):\n",
    "    if (i, j) in sim_ij:\n",
    "        return sim_ij[(i, j)]\n",
    "    \n",
    "    users_i = usersPerGame[i]\n",
    "    users_j = usersPerGame[j]\n",
    "    if func == Custom:\n",
    "        sim_ij[(i, j)] = func(i, j, users_i, users_j)\n",
    "        sim_ij[(j, i)] = func(i, j, users_j, users_i)\n",
    "    else:\n",
    "        sim_ij[(i, j)] = func(users_i, users_j)\n",
    "        sim_ij[(j, i)] = func(users_j, users_i)\n",
    "    return sim_ij[(i, j)]\n",
    "\n",
    "def train(dataset):\n",
    "    global interactions, gamesPerUser, usersPerGame\n",
    "    \n",
    "    interactions = {}\n",
    "    gamesPerUser = defaultdict(list)\n",
    "    usersPerGame = defaultdict(list)\n",
    "    \n",
    "    for d in dataset:\n",
    "        u, g, h = d\n",
    "        interactions[(u,g)] = h\n",
    "        gamesPerUser[u].append(g)\n",
    "        usersPerGame[g].append(u)"
   ]
  },
  {
   "cell_type": "code",
   "execution_count": 39,
   "metadata": {},
   "outputs": [],
   "source": [
    "trainset, validset = train_test_split(dataset, test_size=0.2, random_state=0)\n",
    "\n",
    "models = train(trainset)"
   ]
  },
  {
   "cell_type": "code",
   "execution_count": 40,
   "metadata": {},
   "outputs": [],
   "source": [
    "mean_hours = np.mean([d[2] for d in dataset])\n",
    "hoursPerGame = defaultdict(lambda: mean_hours)\n",
    "for g in usersPerGame:\n",
    "    hoursPerGame[g] = np.mean([interactions[(u,g)] for u in usersPerGame[g]])\n",
    "    if (hoursPerGame[g] == 0):\n",
    "        hoursPerGame[g] = mean_hours\n",
    "\n",
    "hoursPerUser = defaultdict(lambda: mean_hours)\n",
    "for u in gamesPerUser:\n",
    "    hoursPerUser[u] = np.mean([interactions[(u,g)] for g in gamesPerUser[u]])\n",
    "    if (hoursPerUser[u] == 0):\n",
    "        hoursPerUser[u] = mean_hours"
   ]
  },
  {
   "cell_type": "code",
   "execution_count": 41,
   "metadata": {},
   "outputs": [],
   "source": [
    "def predict(u, i, func=Custom):\n",
    "    if len(gamesPerUser[u]) == 0:\n",
    "        return hoursPerGame[i]\n",
    "    return hoursPerGame[i] + 1 / len(gamesPerUser[u]) * sum([sim(i, j, func) * (interactions[(u, j)] - hoursPerGame[j]) for j in gamesPerUser[u] if j != i])"
   ]
  },
  {
   "cell_type": "code",
   "execution_count": 42,
   "metadata": {},
   "outputs": [
    {
     "name": "stdout",
     "output_type": "stream",
     "text": [
      "Cosine 3.2753024090022755\n",
      "Jaccard 3.282977362628762\n",
      "Pearson 3.2892170157684495\n",
      "ModJaccard 3.2828148047791395\n",
      "LopJaccard 3.2719677254862054\n",
      "Custom 3.2883176368758478\n"
     ]
    }
   ],
   "source": [
    "for func in [Cosine, Jaccard, Pearson, ModJaccard, LopJaccard, Custom]:\n",
    "    sim_ij = defaultdict(int)\n",
    "    predictions = [predict(u, i, func) for (u, i, h) in validset]\n",
    "    MSE = mean_squared_error(predictions, [h for (u,g,h) in validset])\n",
    "    print(func.__name__, MSE)"
   ]
  }
 ],
 "metadata": {
  "kernelspec": {
   "display_name": "Python 3",
   "language": "python",
   "name": "python3"
  },
  "language_info": {
   "codemirror_mode": {
    "name": "ipython",
    "version": 3
   },
   "file_extension": ".py",
   "mimetype": "text/x-python",
   "name": "python",
   "nbconvert_exporter": "python",
   "pygments_lexer": "ipython3",
   "version": "3.10.13"
  }
 },
 "nbformat": 4,
 "nbformat_minor": 2
}
