{
 "cells": [
  {
   "cell_type": "code",
   "execution_count": 1,
   "metadata": {},
   "outputs": [],
   "source": [
    "import gzip\n",
    "from collections import defaultdict\n",
    "import numpy as np\n",
    "import random\n",
    "import sklearn\n",
    "from sklearn.linear_model import LogisticRegression, LinearRegression, Ridge\n",
    "from scipy.sparse import csr_matrix\n",
    "import surprise\n",
    "from surprise import SVD, Reader, Dataset, accuracy, SVDpp\n",
    "from sklearn.model_selection import train_test_split\n",
    "from sklearn.metrics import mean_squared_error\n",
    "import pandas as pd\n",
    "import math\n",
    "import tensorflow as tf\n",
    "np.random.seed(0)"
   ]
  },
  {
   "cell_type": "code",
   "execution_count": 2,
   "metadata": {},
   "outputs": [],
   "source": [
    "def readJSON(path):\n",
    "  for l in gzip.open(path, 'rt'):\n",
    "    d = eval(l)\n",
    "    yield d"
   ]
  },
  {
   "cell_type": "code",
   "execution_count": 3,
   "metadata": {},
   "outputs": [],
   "source": [
    "raw_data = [d for d in readJSON(\"train.json.gz\")]\n",
    "np.random.shuffle(raw_data)"
   ]
  },
  {
   "cell_type": "code",
   "execution_count": 4,
   "metadata": {},
   "outputs": [],
   "source": [
    "umap = {}\n",
    "gmap = {}\n",
    "\n",
    "for d in raw_data:\n",
    "    u, g = d['userID'], d['gameID']\n",
    "    if u not in umap:\n",
    "        umap[u] = len(umap)\n",
    "    if g not in gmap:\n",
    "        gmap[g] = len(gmap)\n",
    "\n",
    "    d['user'] = umap[u]\n",
    "    d['game'] = gmap[g]"
   ]
  },
  {
   "cell_type": "code",
   "execution_count": 5,
   "metadata": {},
   "outputs": [],
   "source": [
    "tasks = []\n",
    "header = \"\"\n",
    "\n",
    "for l in open(\"pairs_Hours.csv\"):\n",
    "    if l.startswith(\"userID\"):\n",
    "        #header\n",
    "        header = l\n",
    "        continue\n",
    "    u,g = l.strip().split(',')\n",
    "    if u not in umap:\n",
    "        umap[u] = len(umap)\n",
    "    if g not in gmap:\n",
    "        gmap[g] = len(gmap)\n",
    "    u = umap[u]\n",
    "    g = gmap[g]\n",
    "    tasks.append((u,g))\n"
   ]
  },
  {
   "cell_type": "code",
   "execution_count": 6,
   "metadata": {},
   "outputs": [],
   "source": [
    "def intersection(lst1, lst2):\n",
    "    j = 0\n",
    "    ans = []\n",
    "    for i in range(len(lst1)):\n",
    "        while (j < len(lst2) and lst2[j] < lst1[i]):\n",
    "            j += 1\n",
    "        if j >= len(lst2):\n",
    "            break\n",
    "        if lst2[j] == lst1[i]:\n",
    "            ans.append(lst1[i])\n",
    "            j += 1\n",
    "    return ans"
   ]
  },
  {
   "cell_type": "code",
   "execution_count": 7,
   "metadata": {},
   "outputs": [],
   "source": [
    "dataset = [(d['user'], d['game'], d['hours_transformed']) for d in raw_data]\n",
    "trainset, validset = train_test_split(dataset, test_size=0.2, random_state=0)"
   ]
  },
  {
   "cell_type": "code",
   "execution_count": 8,
   "metadata": {},
   "outputs": [],
   "source": [
    "training = True\n",
    "if not training:\n",
    "    trainset = dataset"
   ]
  },
  {
   "cell_type": "code",
   "execution_count": 9,
   "metadata": {},
   "outputs": [],
   "source": [
    "mean_hours = np.mean([d[2] for d in trainset]).astype(np.float32)"
   ]
  },
  {
   "cell_type": "code",
   "execution_count": 10,
   "metadata": {},
   "outputs": [],
   "source": [
    "Xiu = np.zeros([len(gmap), len(umap)], dtype=np.float32)\n",
    "\n",
    "for d in trainset:\n",
    "    hours = d[2]\n",
    "    Xiu[d[1],d[0]] = hours"
   ]
  },
  {
   "cell_type": "code",
   "execution_count": 36,
   "metadata": {},
   "outputs": [],
   "source": [
    "class Autoencoder(tf.keras.Model):\n",
    "    def __init__(self, layers):\n",
    "        super(Autoencoder, self).__init__()\n",
    "\n",
    "        self.ffs = []\n",
    "        if len(layers) == 1:\n",
    "            self.ff = tf.Variable(tf.random.normal([len(umap),layers[0]],stddev=0.001))\n",
    "            return\n",
    "\n",
    "        layers = [len(umap)] + layers + [len(umap)]\n",
    "        for i in range(len(layers)-1):\n",
    "            self.ffs.append(tf.Variable(tf.random.normal([1+layers[i],layers[i+1]],stddev=0.001)))\n",
    "\n",
    "    # Prediction for a many instances\n",
    "    def predict(self, X):\n",
    "        if len(self.ffs) == 0:\n",
    "            X = tf.matmul(X, self.ff)\n",
    "            X = tf.transpose(X)\n",
    "            X = tf.matmul(tf.transpose(X), tf.transpose(self.ff))\n",
    "            return X\n",
    "        \n",
    "        for layer in self.ffs:\n",
    "            X = tf.concat([tf.ones([tf.shape(X)[0], 1]), X], 1)\n",
    "            X = tf.nn.relu(tf.matmul(X, layer))\n",
    "\n",
    "        return X\n",
    "\n",
    "    # Regularizer\n",
    "    def reg(self):\n",
    "        return 0.\n",
    "    \n",
    "    # Loss\n",
    "    def call(self, X):\n",
    "        pred = self.predict(X)\n",
    "\n",
    "        loss = tf.nn.l2_loss(X - (pred * tf.cast(X != 0, tf.float32))) / tf.reduce_sum(tf.cast(X != 0, tf.float32))\n",
    "\n",
    "        return loss + self.reg()"
   ]
  },
  {
   "cell_type": "code",
   "execution_count": 49,
   "metadata": {},
   "outputs": [],
   "source": [
    "optimizer = tf.keras.optimizers.legacy.Adam(0.01)\n",
    "layers = [32, 32, 16]\n",
    "layers = [16, 16]\n",
    "layers = [64, 64]\n",
    "layers = [2]\n",
    "modelLFM = Autoencoder(layers)\n",
    "modelLFM.compile(optimizer=optimizer)"
   ]
  },
  {
   "cell_type": "code",
   "execution_count": 50,
   "metadata": {},
   "outputs": [],
   "source": [
    "def trainingStep(model):\n",
    "    with tf.GradientTape() as tape:\n",
    "        loss = model(Xiu)\n",
    "    gradients = tape.gradient(loss, model.trainable_variables)\n",
    "    optimizer.apply_gradients((grad, var) for\n",
    "                              (grad, var) in zip(gradients, model.trainable_variables)\n",
    "                              if grad is not None)\n",
    "    return loss.numpy()"
   ]
  },
  {
   "cell_type": "code",
   "execution_count": 51,
   "metadata": {},
   "outputs": [],
   "source": [
    "def MSE(model):\n",
    "    pred_mat = model.predict(Xiu).numpy()\n",
    "    predictions = [pred_mat[g,u] for u,g,h in validset]\n",
    "    MSE = mean_squared_error([h for u,g,h in validset], predictions)\n",
    "    return MSE"
   ]
  },
  {
   "cell_type": "code",
   "execution_count": 52,
   "metadata": {},
   "outputs": [
    {
     "name": "stdout",
     "output_type": "stream",
     "text": [
      "iteration 10 , train MSE = 4.352994 , valid MSE = 10.531914397248247\n",
      "iteration 20 , train MSE = 4.095663 , valid MSE = 13.472367154267033\n",
      "iteration 30 , train MSE = 3.9397752 , valid MSE = 11.085717292695414\n",
      "iteration 40 , train MSE = 3.8344035 , valid MSE = 11.229758544269535\n",
      "iteration 50 , train MSE = 3.7653432 , valid MSE = 11.086253238848942\n",
      "iteration 60 , train MSE = 3.7163222 , valid MSE = 11.357400602424363\n",
      "iteration 70 , train MSE = 3.6687326 , valid MSE = 11.537555382938413\n",
      "iteration 80 , train MSE = 3.6243973 , valid MSE = 11.752064674355855\n",
      "iteration 90 , train MSE = 3.5853388 , valid MSE = 11.965024330787609\n",
      "iteration 100 , train MSE = 3.5531325 , valid MSE = 12.179719481723051\n"
     ]
    }
   ],
   "source": [
    "prevMSE = MSE(modelLFM)\n",
    "for i in range(100):\n",
    "    obj = trainingStep(modelLFM)\n",
    "    valid_MSE = MSE(modelLFM)\n",
    "    if (i % 10 == 9): \n",
    "        print(\"iteration\", i+1, \", train MSE =\", obj, \", valid MSE =\", valid_MSE)\n",
    "    # if i > 20 and valid_MSE > prevMSE:\n",
    "    #     break\n",
    "    # prevMSE = valid_MSE"
   ]
  },
  {
   "cell_type": "code",
   "execution_count": null,
   "metadata": {},
   "outputs": [],
   "source": []
  }
 ],
 "metadata": {
  "kernelspec": {
   "display_name": "Python 3",
   "language": "python",
   "name": "python3"
  },
  "language_info": {
   "codemirror_mode": {
    "name": "ipython",
    "version": 3
   },
   "file_extension": ".py",
   "mimetype": "text/x-python",
   "name": "python",
   "nbconvert_exporter": "python",
   "pygments_lexer": "ipython3",
   "version": "3.10.13"
  }
 },
 "nbformat": 4,
 "nbformat_minor": 2
}
