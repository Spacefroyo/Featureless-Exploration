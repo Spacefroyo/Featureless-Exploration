{
 "cells": [
  {
   "cell_type": "code",
   "execution_count": 41,
   "metadata": {},
   "outputs": [],
   "source": [
    "import gzip\n",
    "from collections import defaultdict\n",
    "import numpy as np\n",
    "import random\n",
    "import sklearn\n",
    "from sklearn.linear_model import LogisticRegression, LinearRegression, Ridge\n",
    "from scipy.sparse import csr_matrix\n",
    "import surprise\n",
    "from surprise import SVD, Reader, Dataset, accuracy, SVDpp\n",
    "from sklearn.model_selection import train_test_split\n",
    "from sklearn.metrics import mean_squared_error\n",
    "import pandas as pd\n",
    "import math\n",
    "np.random.seed(0)"
   ]
  },
  {
   "cell_type": "code",
   "execution_count": 42,
   "metadata": {},
   "outputs": [],
   "source": [
    "def readJSON(path):\n",
    "  for l in gzip.open(path, 'rt'):\n",
    "    d = eval(l)\n",
    "    yield d"
   ]
  },
  {
   "cell_type": "code",
   "execution_count": 43,
   "metadata": {},
   "outputs": [],
   "source": [
    "raw_data = [d for d in readJSON(\"train.json.gz\")]\n",
    "np.random.shuffle(raw_data)"
   ]
  },
  {
   "cell_type": "code",
   "execution_count": 44,
   "metadata": {},
   "outputs": [],
   "source": [
    "umap = {}\n",
    "gmap = {}\n",
    "\n",
    "for d in raw_data:\n",
    "    u, g = d['userID'], d['gameID']\n",
    "    if u not in umap:\n",
    "        umap[u] = len(umap)\n",
    "    if g not in gmap:\n",
    "        gmap[g] = len(gmap)\n",
    "\n",
    "    d['user'] = umap[u]\n",
    "    d['game'] = gmap[g]"
   ]
  },
  {
   "cell_type": "code",
   "execution_count": 70,
   "metadata": {},
   "outputs": [],
   "source": [
    "dataset = [(d['user'], d['game'], d['hours_transformed']) for d in raw_data]\n",
    "\n",
    "interactions = {}\n",
    "gamesPerUser = defaultdict(list)\n",
    "usersPerGame = defaultdict(list)\n",
    "fits = {}\n",
    "\n",
    "def train(dataset):\n",
    "    global interactions, gamesPerUser, usersPerGame, fits\n",
    "    \n",
    "    interactions = {}\n",
    "    gamesPerUser = defaultdict(list)\n",
    "    usersPerGame = defaultdict(list)\n",
    "    fits = {}\n",
    "    \n",
    "    for d in dataset:\n",
    "        u, g, h = d\n",
    "        interactions[(u,g)] = h\n",
    "        gamesPerUser[u].append(g)\n",
    "        usersPerGame[g].append(u)\n",
    "\n",
    "    for u in gamesPerUser:\n",
    "        gamesPerUser[u].sort()\n",
    "\n",
    "    for g in usersPerGame:\n",
    "        usersPerGame[g].sort()"
   ]
  },
  {
   "cell_type": "code",
   "execution_count": 71,
   "metadata": {},
   "outputs": [],
   "source": [
    "def intersection(lst1, lst2):\n",
    "    j = 0\n",
    "    ans = []\n",
    "    for i in range(len(lst1)):\n",
    "        while (j < len(lst2) and lst2[j] < lst1[i]):\n",
    "            j += 1\n",
    "        if j >= len(lst2):\n",
    "            break\n",
    "        if lst2[j] == lst1[i]:\n",
    "            ans.append(lst1[i])\n",
    "            j += 1\n",
    "    return ans"
   ]
  },
  {
   "cell_type": "code",
   "execution_count": 72,
   "metadata": {},
   "outputs": [],
   "source": [
    "def Custom(u1, u2, same):\n",
    "    sim = 0\n",
    "    for g in same:\n",
    "        sim += (interactions[(u1,g)] + interactions[(u2,g)]) / (0.5+np.abs(interactions[(u1,g)] - interactions[(u2,g)]))\n",
    "    return sim"
   ]
  },
  {
   "cell_type": "code",
   "execution_count": 79,
   "metadata": {},
   "outputs": [],
   "source": [
    "def fit(u1, u2):\n",
    "    games1 = gamesPerUser[u1]\n",
    "    games2 = gamesPerUser[u2]\n",
    "    games = intersection(games1, games2)\n",
    "    \n",
    "    hours1 = [interactions[(u1, g)]*1.0 for g in games]\n",
    "    hours2 = [interactions[(u2, g)]*1.0 for g in games]\n",
    "\n",
    "    if len(games) < 3  or hours1[0] == 0:\n",
    "        return 1, 0, 0\n",
    "\n",
    "    m, b = np.polyfit(hours1, hours2, 1)\n",
    "    # r = (len(games) ** 0.5) / (1 + mean_squared_error([m * x + b for x in hours1], hours2))\n",
    "    # r = Custom(u1, u2, games)\n",
    "    r = np.corrcoef(hours1, hours2)[0][1]\n",
    "\n",
    "    if math.isnan(r):\n",
    "        r = 0\n",
    "\n",
    "    return m, b, abs(r)\n"
   ]
  },
  {
   "cell_type": "code",
   "execution_count": 80,
   "metadata": {},
   "outputs": [],
   "source": [
    "mean_hours = np.mean([d[2] for d in dataset])\n",
    "hoursPerGame = defaultdict(lambda: mean_hours)\n",
    "for g in usersPerGame:\n",
    "    hoursPerGame[g] = np.mean([interactions[(u,g)] for u in usersPerGame[g]])\n",
    "    if (hoursPerGame[g] == 0):\n",
    "        hoursPerGame[g] = mean_hours"
   ]
  },
  {
   "cell_type": "code",
   "execution_count": 81,
   "metadata": {},
   "outputs": [],
   "source": [
    "# y = mx + b\n",
    "# y - b = mx\n",
    "# (y - b) / m = x\n",
    "# x = y/m - b / m\n",
    "\n",
    "fits = {}\n",
    "\n",
    "def predict(u, g, refit=False):\n",
    "    global fits\n",
    "\n",
    "    wsum, wtot = 0, 0\n",
    "    for v in usersPerGame[g]:\n",
    "        if refit or (u,v) not in fits:\n",
    "            m, b, r = fit(u,v)\n",
    "            fits[(u,v)] = (m, b, r)\n",
    "            if m == 0:\n",
    "                fits[(u,v)] = (1, 0, 0)\n",
    "            else:\n",
    "                fits[(v,u)] = (1/m, b/m, r)\n",
    "\n",
    "        m, b, r = fits[(v,u)]\n",
    "        if (math.isnan(m) or math.isnan(b) or math.isnan(r)):\n",
    "            print(m, b, r, u, v, g)\n",
    "        pred = max(0, min(15, m * interactions[(v,g)] - b))\n",
    "\n",
    "        w = r\n",
    "\n",
    "        wsum += w * pred\n",
    "        wtot += w\n",
    "\n",
    "    if wtot == 0:\n",
    "        return hoursPerGame[g]\n",
    "\n",
    "    return wsum / wtot"
   ]
  },
  {
   "cell_type": "code",
   "execution_count": 82,
   "metadata": {},
   "outputs": [
    {
     "name": "stderr",
     "output_type": "stream",
     "text": [
      "/var/folders/zk/684rggrn76sf_fhg61wgw21r0000gn/T/ipykernel_87213/1784189152.py:14: RankWarning: Polyfit may be poorly conditioned\n",
      "  m, b, r = fit(u,v)\n",
      "/opt/homebrew/lib/python3.10/site-packages/numpy/lib/function_base.py:2853: RuntimeWarning: invalid value encountered in divide\n",
      "  c /= stddev[:, None]\n",
      "/opt/homebrew/lib/python3.10/site-packages/numpy/lib/function_base.py:2854: RuntimeWarning: invalid value encountered in divide\n",
      "  c /= stddev[None, :]\n",
      "/var/folders/zk/684rggrn76sf_fhg61wgw21r0000gn/T/ipykernel_87213/1784189152.py:14: RankWarning: Polyfit may be poorly conditioned\n",
      "  m, b, r = fit(u,v)\n",
      "/var/folders/zk/684rggrn76sf_fhg61wgw21r0000gn/T/ipykernel_87213/1784189152.py:14: RankWarning: Polyfit may be poorly conditioned\n",
      "  m, b, r = fit(u,v)\n",
      "/var/folders/zk/684rggrn76sf_fhg61wgw21r0000gn/T/ipykernel_87213/1784189152.py:14: RankWarning: Polyfit may be poorly conditioned\n",
      "  m, b, r = fit(u,v)\n",
      "/var/folders/zk/684rggrn76sf_fhg61wgw21r0000gn/T/ipykernel_87213/1784189152.py:14: RankWarning: Polyfit may be poorly conditioned\n",
      "  m, b, r = fit(u,v)\n",
      "/var/folders/zk/684rggrn76sf_fhg61wgw21r0000gn/T/ipykernel_87213/1784189152.py:14: RankWarning: Polyfit may be poorly conditioned\n",
      "  m, b, r = fit(u,v)\n",
      "/var/folders/zk/684rggrn76sf_fhg61wgw21r0000gn/T/ipykernel_87213/1784189152.py:14: RankWarning: Polyfit may be poorly conditioned\n",
      "  m, b, r = fit(u,v)\n",
      "/var/folders/zk/684rggrn76sf_fhg61wgw21r0000gn/T/ipykernel_87213/1784189152.py:14: RankWarning: Polyfit may be poorly conditioned\n",
      "  m, b, r = fit(u,v)\n",
      "/var/folders/zk/684rggrn76sf_fhg61wgw21r0000gn/T/ipykernel_87213/1784189152.py:14: RankWarning: Polyfit may be poorly conditioned\n",
      "  m, b, r = fit(u,v)\n",
      "/var/folders/zk/684rggrn76sf_fhg61wgw21r0000gn/T/ipykernel_87213/1784189152.py:14: RankWarning: Polyfit may be poorly conditioned\n",
      "  m, b, r = fit(u,v)\n",
      "/var/folders/zk/684rggrn76sf_fhg61wgw21r0000gn/T/ipykernel_87213/1784189152.py:14: RankWarning: Polyfit may be poorly conditioned\n",
      "  m, b, r = fit(u,v)\n",
      "/var/folders/zk/684rggrn76sf_fhg61wgw21r0000gn/T/ipykernel_87213/1784189152.py:14: RankWarning: Polyfit may be poorly conditioned\n",
      "  m, b, r = fit(u,v)\n",
      "/var/folders/zk/684rggrn76sf_fhg61wgw21r0000gn/T/ipykernel_87213/1784189152.py:14: RankWarning: Polyfit may be poorly conditioned\n",
      "  m, b, r = fit(u,v)\n",
      "/var/folders/zk/684rggrn76sf_fhg61wgw21r0000gn/T/ipykernel_87213/1784189152.py:14: RankWarning: Polyfit may be poorly conditioned\n",
      "  m, b, r = fit(u,v)\n",
      "/var/folders/zk/684rggrn76sf_fhg61wgw21r0000gn/T/ipykernel_87213/1784189152.py:14: RankWarning: Polyfit may be poorly conditioned\n",
      "  m, b, r = fit(u,v)\n",
      "/var/folders/zk/684rggrn76sf_fhg61wgw21r0000gn/T/ipykernel_87213/1784189152.py:14: RankWarning: Polyfit may be poorly conditioned\n",
      "  m, b, r = fit(u,v)\n",
      "/var/folders/zk/684rggrn76sf_fhg61wgw21r0000gn/T/ipykernel_87213/1784189152.py:14: RankWarning: Polyfit may be poorly conditioned\n",
      "  m, b, r = fit(u,v)\n",
      "/var/folders/zk/684rggrn76sf_fhg61wgw21r0000gn/T/ipykernel_87213/1784189152.py:14: RankWarning: Polyfit may be poorly conditioned\n",
      "  m, b, r = fit(u,v)\n",
      "/var/folders/zk/684rggrn76sf_fhg61wgw21r0000gn/T/ipykernel_87213/1784189152.py:14: RankWarning: Polyfit may be poorly conditioned\n",
      "  m, b, r = fit(u,v)\n",
      "/var/folders/zk/684rggrn76sf_fhg61wgw21r0000gn/T/ipykernel_87213/1784189152.py:14: RankWarning: Polyfit may be poorly conditioned\n",
      "  m, b, r = fit(u,v)\n",
      "/var/folders/zk/684rggrn76sf_fhg61wgw21r0000gn/T/ipykernel_87213/1784189152.py:14: RankWarning: Polyfit may be poorly conditioned\n",
      "  m, b, r = fit(u,v)\n",
      "/var/folders/zk/684rggrn76sf_fhg61wgw21r0000gn/T/ipykernel_87213/1784189152.py:14: RankWarning: Polyfit may be poorly conditioned\n",
      "  m, b, r = fit(u,v)\n",
      "/var/folders/zk/684rggrn76sf_fhg61wgw21r0000gn/T/ipykernel_87213/1784189152.py:14: RankWarning: Polyfit may be poorly conditioned\n",
      "  m, b, r = fit(u,v)\n",
      "/var/folders/zk/684rggrn76sf_fhg61wgw21r0000gn/T/ipykernel_87213/1784189152.py:14: RankWarning: Polyfit may be poorly conditioned\n",
      "  m, b, r = fit(u,v)\n",
      "/var/folders/zk/684rggrn76sf_fhg61wgw21r0000gn/T/ipykernel_87213/1784189152.py:14: RankWarning: Polyfit may be poorly conditioned\n",
      "  m, b, r = fit(u,v)\n",
      "/var/folders/zk/684rggrn76sf_fhg61wgw21r0000gn/T/ipykernel_87213/1784189152.py:14: RankWarning: Polyfit may be poorly conditioned\n",
      "  m, b, r = fit(u,v)\n"
     ]
    },
    {
     "name": "stdout",
     "output_type": "stream",
     "text": [
      "7.495923337210688\n"
     ]
    },
    {
     "name": "stderr",
     "output_type": "stream",
     "text": [
      "/var/folders/zk/684rggrn76sf_fhg61wgw21r0000gn/T/ipykernel_87213/1784189152.py:14: RankWarning: Polyfit may be poorly conditioned\n",
      "  m, b, r = fit(u,v)\n"
     ]
    }
   ],
   "source": [
    "trainset, validset = train_test_split(dataset, test_size=0.2, random_state=0)\n",
    "\n",
    "train(trainset)\n",
    "predictions = [predict(u,g,refit=True) for (u,g,h) in validset]\n",
    "MSE = mean_squared_error(predictions, [h for (u,g,h) in validset])\n",
    "print(MSE)"
   ]
  }
 ],
 "metadata": {
  "kernelspec": {
   "display_name": "Python 3",
   "language": "python",
   "name": "python3"
  },
  "language_info": {
   "codemirror_mode": {
    "name": "ipython",
    "version": 3
   },
   "file_extension": ".py",
   "mimetype": "text/x-python",
   "name": "python",
   "nbconvert_exporter": "python",
   "pygments_lexer": "ipython3",
   "version": "3.10.13"
  }
 },
 "nbformat": 4,
 "nbformat_minor": 2
}
