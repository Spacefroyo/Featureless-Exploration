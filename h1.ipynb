{
 "cells": [
  {
   "cell_type": "code",
   "execution_count": 31,
   "metadata": {},
   "outputs": [],
   "source": [
    "import gzip\n",
    "from collections import defaultdict\n",
    "import numpy as np\n",
    "import random\n",
    "import sklearn\n",
    "from sklearn.linear_model import LogisticRegression, LinearRegression, Ridge\n",
    "from scipy.sparse import csr_matrix\n",
    "import surprise\n",
    "from surprise import SVD, Reader, Dataset, accuracy, SVDpp\n",
    "from surprise.model_selection import train_test_split, GridSearchCV, cross_validate\n",
    "from sklearn.metrics import mean_squared_error\n",
    "import pandas as pd\n",
    "np.random.seed(0)"
   ]
  },
  {
   "cell_type": "code",
   "execution_count": 13,
   "metadata": {},
   "outputs": [],
   "source": [
    "def readJSON(path):\n",
    "  for l in gzip.open(path, 'rt'):\n",
    "    d = eval(l)\n",
    "    yield d"
   ]
  },
  {
   "cell_type": "code",
   "execution_count": 14,
   "metadata": {},
   "outputs": [],
   "source": [
    "raw_data = [d for d in readJSON(\"train.json.gz\")]\n",
    "np.random.shuffle(raw_data)"
   ]
  },
  {
   "cell_type": "code",
   "execution_count": 15,
   "metadata": {},
   "outputs": [],
   "source": [
    "umap = {}\n",
    "gmap = {}\n",
    "\n",
    "for d in raw_data:\n",
    "    u, g = d['userID'], d['gameID']\n",
    "    if u not in umap:\n",
    "        umap[u] = len(umap)\n",
    "    if g not in gmap:\n",
    "        gmap[g] = len(gmap)\n",
    "\n",
    "    d['user'] = umap[u]\n",
    "    d['game'] = gmap[g]"
   ]
  },
  {
   "cell_type": "code",
   "execution_count": 18,
   "metadata": {},
   "outputs": [],
   "source": [
    "dataset = [(d['user'], d['game'], d['hours_transformed']) for d in raw_data]\n",
    "df = pd.DataFrame(dataset, columns =['user', 'game', 'hours'])"
   ]
  },
  {
   "cell_type": "code",
   "execution_count": 21,
   "metadata": {},
   "outputs": [
    {
     "name": "stdout",
     "output_type": "stream",
     "text": [
      "0.0 14.013750114071462\n"
     ]
    }
   ],
   "source": [
    "print(df['hours'].min(), df['hours'].max())"
   ]
  },
  {
   "cell_type": "code",
   "execution_count": 24,
   "metadata": {},
   "outputs": [],
   "source": [
    "reader = Reader(rating_scale=(df['hours'].min(), df['hours'].max()))\n",
    "data = Dataset.load_from_df(df[[\"user\", \"game\", \"hours\"]], reader)\n",
    "\n",
    "train, valid = train_test_split(data, test_size=0.1, random_state=0)"
   ]
  },
  {
   "cell_type": "code",
   "execution_count": 34,
   "metadata": {},
   "outputs": [
    {
     "name": "stdout",
     "output_type": "stream",
     "text": [
      "3.128099386787955\n"
     ]
    }
   ],
   "source": [
    "param_grid = {\"n_epochs\": [5, 10], \"reg_all\": [0.05, 0.1, 0.2], \"n_factors\": [2, 3, 4, 5, 6, 7, 8, 9, 10]}\n",
    "gs = GridSearchCV(SVD, param_grid, measures=[\"mse\"], cv=5)\n",
    "\n",
    "gs.fit(data)\n",
    "\n",
    "print(gs.best_score[\"mse\"])\n",
    "\n",
    "model = gs.best_estimator[\"mse\"]"
   ]
  },
  {
   "cell_type": "code",
   "execution_count": 35,
   "metadata": {},
   "outputs": [
    {
     "name": "stdout",
     "output_type": "stream",
     "text": [
      "{'n_epochs': 10, 'reg_all': 0.05, 'n_factors': 3}\n"
     ]
    }
   ],
   "source": [
    "print(gs.best_params[\"mse\"])"
   ]
  }
 ],
 "metadata": {
  "kernelspec": {
   "display_name": "Python 3",
   "language": "python",
   "name": "python3"
  },
  "language_info": {
   "codemirror_mode": {
    "name": "ipython",
    "version": 3
   },
   "file_extension": ".py",
   "mimetype": "text/x-python",
   "name": "python",
   "nbconvert_exporter": "python",
   "pygments_lexer": "ipython3",
   "version": "3.10.13"
  }
 },
 "nbformat": 4,
 "nbformat_minor": 2
}
